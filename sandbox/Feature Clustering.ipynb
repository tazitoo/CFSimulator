{
 "cells": [
  {
   "cell_type": "code",
   "execution_count": null,
   "id": "51da3217",
   "metadata": {},
   "outputs": [],
   "source": [
    "import pandas as pd\n",
    "import glob\n",
    "import matplotlib\n",
    "import numpy as np\n",
    "# from scipy.cluster.hierarchy import fclusterdata\n",
    "# from scipy.stats.stats import pearsonr \n",
    "# from scipy.cluster.hierarchy import linkage\n",
    "# from scipy.cluster import hierarchy"
   ]
  },
  {
   "cell_type": "markdown",
   "id": "10a27a99",
   "metadata": {},
   "source": [
    "This notebook contains preliminary tests on feature clustering. The idea is to use hierarchical clustering techniques to aggregate highly correlated features to present summaries of feature importance to users."
   ]
  },
  {
   "cell_type": "markdown",
   "id": "203e7d05",
   "metadata": {},
   "source": [
    "## Loading and cleaning the dataset"
   ]
  },
  {
   "cell_type": "code",
   "execution_count": 200,
   "id": "5be65109",
   "metadata": {},
   "outputs": [],
   "source": [
    "X = [[0, 0], [0, 1], [1, 0],\n",
    "     [0, 4], [0, 3], [1, 4],\n",
    "     [4, 0], [3, 0], [4, 1],\n",
    "     [4, 4], [3, 4], [4, 3]]"
   ]
  },
  {
   "cell_type": "code",
   "execution_count": 216,
   "id": "58bf047b",
   "metadata": {},
   "outputs": [],
   "source": [
    "clustering = linkage(inputData[:100, :], metric=mydist)\n",
    "rootnode, nodelist = hierarchy.to_tree(clustering, rd=True)"
   ]
  },
  {
   "cell_type": "code",
   "execution_count": 217,
   "id": "21566963",
   "metadata": {},
   "outputs": [
    {
     "data": {
      "text/plain": [
       "<scipy.cluster.hierarchy.ClusterNode at 0x7fe79a3c2160>"
      ]
     },
     "execution_count": 217,
     "metadata": {},
     "output_type": "execute_result"
    }
   ],
   "source": [
    "rootnode"
   ]
  },
  {
   "cell_type": "code",
   "execution_count": 12,
   "id": "20a56021",
   "metadata": {},
   "outputs": [
    {
     "data": {
      "text/plain": [
       "['../data/others/dota2Test.csv',\n",
       " '../data/others/dota2Train.csv',\n",
       " '../data/others/dota2Dataset.zip',\n",
       " '../data/others/pd_speech_features.csv']"
      ]
     },
     "execution_count": 12,
     "metadata": {},
     "output_type": "execute_result"
    }
   ],
   "source": [
    "glob.glob('../data/others/*')"
   ]
  },
  {
   "cell_type": "code",
   "execution_count": 110,
   "id": "a884dab5",
   "metadata": {},
   "outputs": [],
   "source": [
    "df = pd.read_csv('../data/others/pd_speech_features.csv', skiprows=1)"
   ]
  },
  {
   "cell_type": "code",
   "execution_count": 119,
   "id": "5d1ac228",
   "metadata": {},
   "outputs": [],
   "source": [
    "inputData = df.drop(columns=['id', 'gender', 'class']).values.transpose()"
   ]
  },
  {
   "cell_type": "code",
   "execution_count": 214,
   "id": "75f550aa",
   "metadata": {},
   "outputs": [],
   "source": [
    "# a custom function that just computes Euclidean distance\n",
    "def mydist(p1, p2):\n",
    "    \n",
    "    coer = 1 - np.corrcoef(p1, p2)[0][1]\n",
    "#     print(coer)\n",
    "    return coer\n",
    "\n",
    " \n",
    "fclust1 = fclusterdata(inputData[:100, :], 1, metric=mydist, depth=6)"
   ]
  },
  {
   "cell_type": "code",
   "execution_count": 195,
   "id": "b95491ab",
   "metadata": {},
   "outputs": [
    {
     "data": {
      "text/plain": [
       "61"
      ]
     },
     "execution_count": 195,
     "metadata": {},
     "output_type": "execute_result"
    }
   ],
   "source": [
    "np.unique(fclust1).shape[0]"
   ]
  },
  {
   "cell_type": "code",
   "execution_count": 198,
   "id": "be164b38",
   "metadata": {},
   "outputs": [
    {
     "data": {
      "text/plain": [
       "(100,)"
      ]
     },
     "execution_count": 198,
     "metadata": {},
     "output_type": "execute_result"
    }
   ],
   "source": [
    "fclust1.shape"
   ]
  }
 ],
 "metadata": {
  "kernelspec": {
   "display_name": "Python 3 (ipykernel)",
   "language": "python",
   "name": "python3"
  },
  "language_info": {
   "codemirror_mode": {
    "name": "ipython",
    "version": 3
   },
   "file_extension": ".py",
   "mimetype": "text/x-python",
   "name": "python",
   "nbconvert_exporter": "python",
   "pygments_lexer": "ipython3",
   "version": "3.9.12"
  }
 },
 "nbformat": 4,
 "nbformat_minor": 5
}

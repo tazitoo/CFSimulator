{
 "cells": [
  {
   "cell_type": "code",
   "execution_count": 4,
   "id": "ad99df04",
   "metadata": {},
   "outputs": [
    {
     "ename": "ImportError",
     "evalue": "cannot import name 'OnlineCatalog' from 'carla' (/home/joaorulff/miniconda3/envs/carla/lib/python3.7/site-packages/carla/__init__.py)",
     "output_type": "error",
     "traceback": [
      "\u001b[0;31m---------------------------------------------------------------------------\u001b[0m",
      "\u001b[0;31mImportError\u001b[0m                               Traceback (most recent call last)",
      "\u001b[0;32m/tmp/ipykernel_175389/2805717331.py\u001b[0m in \u001b[0;36m<module>\u001b[0;34m\u001b[0m\n\u001b[0;32m----> 1\u001b[0;31m \u001b[0;32mfrom\u001b[0m \u001b[0mcarla\u001b[0m \u001b[0;32mimport\u001b[0m \u001b[0mOnlineCatalog\u001b[0m\u001b[0;34m,\u001b[0m \u001b[0mMLModelCatalog\u001b[0m\u001b[0;34m\u001b[0m\u001b[0;34m\u001b[0m\u001b[0m\n\u001b[0m\u001b[1;32m      2\u001b[0m \u001b[0;32mfrom\u001b[0m \u001b[0mcarla\u001b[0m\u001b[0;34m.\u001b[0m\u001b[0mrecourse_methods\u001b[0m \u001b[0;32mimport\u001b[0m \u001b[0mGrowingSpheres\u001b[0m\u001b[0;34m\u001b[0m\u001b[0;34m\u001b[0m\u001b[0m\n",
      "\u001b[0;31mImportError\u001b[0m: cannot import name 'OnlineCatalog' from 'carla' (/home/joaorulff/miniconda3/envs/carla/lib/python3.7/site-packages/carla/__init__.py)"
     ]
    }
   ],
   "source": [
    "from carla import OnlineCatalog, MLModelCatalog\n",
    "from carla.recourse_methods import GrowingSpheres"
   ]
  },
  {
   "cell_type": "code",
   "execution_count": 5,
   "id": "daaa5426",
   "metadata": {},
   "outputs": [
    {
     "ename": "NameError",
     "evalue": "name 'OnlineCatalog' is not defined",
     "output_type": "error",
     "traceback": [
      "\u001b[0;31m---------------------------------------------------------------------------\u001b[0m",
      "\u001b[0;31mNameError\u001b[0m                                 Traceback (most recent call last)",
      "\u001b[0;32m/tmp/ipykernel_175389/2658476610.py\u001b[0m in \u001b[0;36m<module>\u001b[0;34m\u001b[0m\n\u001b[1;32m      1\u001b[0m \u001b[0;31m# load a catalog dataset\u001b[0m\u001b[0;34m\u001b[0m\u001b[0;34m\u001b[0m\u001b[0;34m\u001b[0m\u001b[0m\n\u001b[1;32m      2\u001b[0m \u001b[0mdata_name\u001b[0m \u001b[0;34m=\u001b[0m \u001b[0;34m\"adult\"\u001b[0m\u001b[0;34m\u001b[0m\u001b[0;34m\u001b[0m\u001b[0m\n\u001b[0;32m----> 3\u001b[0;31m \u001b[0mdataset\u001b[0m \u001b[0;34m=\u001b[0m \u001b[0mOnlineCatalog\u001b[0m\u001b[0;34m(\u001b[0m\u001b[0mdata_name\u001b[0m\u001b[0;34m)\u001b[0m\u001b[0;34m\u001b[0m\u001b[0;34m\u001b[0m\u001b[0m\n\u001b[0m\u001b[1;32m      4\u001b[0m \u001b[0;34m\u001b[0m\u001b[0m\n\u001b[1;32m      5\u001b[0m \u001b[0;31m# load artificial neural network from catalog\u001b[0m\u001b[0;34m\u001b[0m\u001b[0;34m\u001b[0m\u001b[0;34m\u001b[0m\u001b[0m\n",
      "\u001b[0;31mNameError\u001b[0m: name 'OnlineCatalog' is not defined"
     ]
    }
   ],
   "source": [
    "# load a catalog dataset\n",
    "data_name = \"adult\"\n",
    "dataset = OnlineCatalog(data_name)\n",
    "\n",
    "# load artificial neural network from catalog\n",
    "model = MLModelCatalog(dataset, \"ann\")\n",
    "\n",
    "# get factuals from the data to generate counterfactual examples\n",
    "factuals = dataset.raw.iloc[:10]\n",
    "\n",
    "# load a recourse model and pass black box model\n",
    "gs = GrowingSpheres(model)\n",
    "\n",
    "# generate counterfactual examples\n",
    "counterfactuals = gs.get_counterfactuals(factuals)"
   ]
  },
  {
   "cell_type": "code",
   "execution_count": null,
   "id": "ec837e24",
   "metadata": {},
   "outputs": [],
   "source": []
  }
 ],
 "metadata": {
  "kernelspec": {
   "display_name": "Python 3 (ipykernel)",
   "language": "python",
   "name": "python3"
  },
  "language_info": {
   "codemirror_mode": {
    "name": "ipython",
    "version": 3
   },
   "file_extension": ".py",
   "mimetype": "text/x-python",
   "name": "python",
   "nbconvert_exporter": "python",
   "pygments_lexer": "ipython3",
   "version": "3.7.13"
  }
 },
 "nbformat": 4,
 "nbformat_minor": 5
}

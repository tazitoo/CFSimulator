{
 "cells": [
  {
   "cell_type": "code",
   "execution_count": 2,
   "id": "9c77d078",
   "metadata": {},
   "outputs": [],
   "source": [
    "import glob\n",
    "import pandas as pd\n",
    "import numpy as np"
   ]
  },
  {
   "cell_type": "code",
   "execution_count": 20,
   "id": "00680641",
   "metadata": {},
   "outputs": [],
   "source": [
    "diabetes.to_csv('../data/datasets/diabetes_x.csv', index=False)"
   ]
  },
  {
   "cell_type": "code",
   "execution_count": 5,
   "id": "e0fdf218",
   "metadata": {},
   "outputs": [
    {
     "data": {
      "text/plain": [
       "['../data/datasets/diabetes.csv']"
      ]
     },
     "execution_count": 5,
     "metadata": {},
     "output_type": "execute_result"
    }
   ],
   "source": [
    "glob.glob('../data/datasets/diabetes.csv')"
   ]
  },
  {
   "cell_type": "code",
   "execution_count": 30,
   "id": "6901704f",
   "metadata": {},
   "outputs": [
    {
     "data": {
      "text/plain": [
       "array([ 6,  1,  8,  0,  5,  3, 10,  2,  4,  7,  9, 11, 13, 15, 17, 12, 14])"
      ]
     },
     "execution_count": 30,
     "metadata": {},
     "output_type": "execute_result"
    }
   ],
   "source": [
    "df['Pregnancies'].unique()"
   ]
  },
  {
   "cell_type": "code",
   "execution_count": 40,
   "id": "59fcc261",
   "metadata": {},
   "outputs": [
    {
     "data": {
      "text/plain": [
       "[246, 178, 125, 50, 83, 52, 11, 19, 3, 1]"
      ]
     },
     "execution_count": 40,
     "metadata": {},
     "output_type": "execute_result"
    }
   ],
   "source": [
    "df = pd.read_csv('../data/datasets/diabetes.csv')\n",
    "\n",
    "np.histogram(df.values[:,0], bins=10)[0].tolist()"
   ]
  },
  {
   "cell_type": "code",
   "execution_count": 9,
   "id": "68ce7c5f",
   "metadata": {},
   "outputs": [],
   "source": [
    "\n",
    "\n",
    "glob.glob('../data/datasets/iris.csv')\n",
    "\n",
    "df = pd.read_csv('../data/datasets/iris.csv')\n",
    "df.head()\n",
    "\n",
    "df.drop(columns=['variety'], axis=1, inplace=True)"
   ]
  },
  {
   "cell_type": "code",
   "execution_count": 12,
   "id": "ca27f6f6",
   "metadata": {},
   "outputs": [],
   "source": [
    "df.to_csv(path_or_buf='./iris.csv', index=False)"
   ]
  },
  {
   "cell_type": "code",
   "execution_count": null,
   "id": "c05f7a5e",
   "metadata": {},
   "outputs": [],
   "source": []
  },
  {
   "cell_type": "code",
   "execution_count": null,
   "id": "81e533df",
   "metadata": {},
   "outputs": [],
   "source": []
  },
  {
   "cell_type": "code",
   "execution_count": null,
   "id": "b94659d4",
   "metadata": {},
   "outputs": [],
   "source": []
  }
 ],
 "metadata": {
  "kernelspec": {
   "display_name": "Python 3 (ipykernel)",
   "language": "python",
   "name": "python3"
  },
  "language_info": {
   "codemirror_mode": {
    "name": "ipython",
    "version": 3
   },
   "file_extension": ".py",
   "mimetype": "text/x-python",
   "name": "python",
   "nbconvert_exporter": "python",
   "pygments_lexer": "ipython3",
   "version": "3.9.12"
  }
 },
 "nbformat": 4,
 "nbformat_minor": 5
}
